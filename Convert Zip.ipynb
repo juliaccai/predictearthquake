{
 "cells": [
  {
   "cell_type": "code",
   "execution_count": 1,
   "metadata": {},
   "outputs": [],
   "source": [
    "import csv\n",
    "from math import cos, asin, sqrt"
   ]
  },
  {
   "cell_type": "code",
   "execution_count": 2,
   "metadata": {},
   "outputs": [],
   "source": [
    "zipcodes = csv.reader(open('USzipcodes.csv', 'r'))\n",
    "#for row in zipcodes:\n",
    "#    print(', '.join(row))"
   ]
  },
  {
   "cell_type": "code",
   "execution_count": 3,
   "metadata": {},
   "outputs": [],
   "source": [
    "def findZip(x):\n",
    "    \"\"\"\n",
    "    Finds the latitude and longitude at the center of this zip code\n",
    "    \"\"\"\n",
    "    \n",
    "    size = len(str(x))\n",
    "    if size > 5 or size < 3:\n",
    "        lat, lon = None, None\n",
    "    else:\n",
    "        for row in zipcodes:\n",
    "            if x == row[0]:\n",
    "                lat, lon = row[1], row[2]\n",
    "                break;\n",
    "            else:\n",
    "                lat, lon = None, None\n",
    "    return lat, lon"
   ]
  },
  {
   "cell_type": "code",
   "execution_count": 4,
   "metadata": {},
   "outputs": [
    {
     "name": "stdout",
     "output_type": "stream",
     "text": [
      "Enter 5-digit zip code: 92119\n",
      "Latitude and longitude @ zip:  32.817888 -117.031956\n"
     ]
    }
   ],
   "source": [
    "latX, lonY = findZip(input(\"Enter 5-digit zip code: \"))\n",
    "print(\"Latitude and longitude @ zip: \", latX, lonY)"
   ]
  }
 ],
 "metadata": {
  "kernelspec": {
   "display_name": "Python 3",
   "language": "python",
   "name": "python3"
  },
  "language_info": {
   "codemirror_mode": {
    "name": "ipython",
    "version": 3
   },
   "file_extension": ".py",
   "mimetype": "text/x-python",
   "name": "python",
   "nbconvert_exporter": "python",
   "pygments_lexer": "ipython3",
   "version": "3.6.5"
  }
 },
 "nbformat": 4,
 "nbformat_minor": 2
}
