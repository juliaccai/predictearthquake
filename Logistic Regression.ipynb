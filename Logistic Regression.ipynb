{
 "cells": [
  {
   "cell_type": "markdown",
   "metadata": {},
   "source": [
    "# Logistic Regression: Predicting Experience During Earthquake\n",
    "\n",
    "### Predicts the magnitude of a hypothetical earthquake at a given location\n",
    "\n",
    "- US earthquake data is from http://earthquake.usgs.gov; 77,161 data points for earthquakes from 1990 to 2018.\n",
    "- US zip codes are from https://www.census.gov/geo/maps-data/data/gazetteer2018.html"
   ]
  },
  {
   "cell_type": "code",
   "execution_count": 1,
   "metadata": {},
   "outputs": [],
   "source": [
    "import pandas as pd\n",
    "import csv\n",
    "\n",
    "from sklearn.model_selection import train_test_split\n",
    "from sklearn.linear_model import LogisticRegression"
   ]
  },
  {
   "cell_type": "markdown",
   "metadata": {},
   "source": [
    "## Create an intermediate file based on the magnitude\n",
    "We assign a \"felt\" value (0 not felt, 6 certainly felt) to each data point.\n",
    "\n",
    "Index | Magnitude | Feeling | Damage\n",
    "---: | :---: | :--- | :---\n",
    "0| (0, 2.5) | imperceptible | impossible\n",
    "1 | \\[2.5, 4) | indistinguishable | very unlikely\n",
    "2 | \\[4, 5) | noticeable | unlikely\n",
    "3 | \\[5, 6) | alarming | possibly\n",
    "4 | \\[6, 8) | disturbing | likely\n",
    "5 | \\[8, 10) | severe | very likely\n",
    "6 | \\[10, 14\\] | catastropic | certain"
   ]
  },
  {
   "cell_type": "code",
   "execution_count": 2,
   "metadata": {},
   "outputs": [],
   "source": [
    "ref = [[2.5, \"IMPERCEPTIBLE\", \"IMPOSSIBLE\"],\n",
    "       [4, \"INDISTINGUISHABLE\", \"VERY UNLIKELY\"],\n",
    "       [5, \"NOTICEABLE\", \"UNLIKELY\"],\n",
    "       [6, \"ALARMING\", \"POSSIBLE\"],\n",
    "       [8, \"DISTURBING\", \"LIKELY\"],\n",
    "       [10, \"SEVERE\", \"VERY LIKELY\"],\n",
    "       [14, \"CATASTROPHIC\", \"CERTAIN\"]]\n",
    "\n",
    "assert ref[0][0] > 0 and ref[-1][0] <= 14"
   ]
  },
  {
   "cell_type": "code",
   "execution_count": 3,
   "metadata": {},
   "outputs": [],
   "source": [
    "EARTHQUAKES_FILE = \"USearthquakes_felt.csv\"\n",
    "\n",
    "with open('USearthquakes1990to2018.csv', 'r') as csvinput:\n",
    "    with open(EARTHQUAKES_FILE, 'w') as csvoutput:\n",
    "        writer = csv.writer(csvoutput, lineterminator='\\n')\n",
    "        reader = csv.reader(csvinput)\n",
    "        all = []\n",
    "        row = next(reader)\n",
    "        row.append('felt')\n",
    "        all.append(row)\n",
    "\n",
    "        for row in reader:\n",
    "            if float(row[4]) < 2.5:\n",
    "                row.append(0)\n",
    "                all.append(row)\n",
    "            elif float(row[4]) < 4.:\n",
    "                row.append(1)\n",
    "                all.append(row)\n",
    "            elif float(row[4]) < 5.:\n",
    "                row.append(2)\n",
    "                all.append(row)\n",
    "            elif float(row[4]) < 6.:\n",
    "                row.append(3)\n",
    "                all.append(row)\n",
    "            elif float(row[4]) < 8.:\n",
    "                row.append(4)\n",
    "                all.append(row)\n",
    "            elif float(row[4]) < 10.:\n",
    "                row.append(5)\n",
    "                all.append(row)\n",
    "            elif float(row[4]) >= 10.:\n",
    "                row.append(6)\n",
    "                all.append(row)\n",
    "\n",
    "        writer.writerows(all)"
   ]
  },
  {
   "cell_type": "markdown",
   "metadata": {},
   "source": [
    "## Diagnostic dataset information"
   ]
  },
  {
   "cell_type": "code",
   "execution_count": 4,
   "metadata": {
    "scrolled": true
   },
   "outputs": [
    {
     "name": "stdout",
     "output_type": "stream",
     "text": [
      "Number of observations = 77161\n",
      "Data set headers = ['datetime', 'latitude', 'longitude', 'depth', 'magnitude', 'felt']\n",
      "First few rows...\n",
      "                    datetime   latitude   longitude  depth  magnitude  felt\n",
      "0  2018-12-18T04:21:40.550Z  40.934334 -124.629837  14.82       3.03     1\n",
      "1  2018-12-17T18:02:39.570Z  36.094000 -117.882000   4.09       2.62     1\n",
      "2  2018-12-17T11:26:24.210Z  38.057667 -118.875168  10.70       2.69     1\n",
      "3  2018-12-17T07:42:48.530Z  36.462900  -98.773700   7.92       3.00     1\n",
      "4  2018-12-17T02:52:01.740Z  35.956833 -116.734500  -0.34       3.62     1\n"
     ]
    }
   ],
   "source": [
    "# Load the dataset\n",
    "dataset = pd.read_csv(EARTHQUAKES_FILE)\n",
    "print(\"Number of observations =\", len(dataset))\n",
    "print(\"Data set headers = {h}\".format(h=list(dataset.columns.values)))\n",
    "print(\"First few rows...\\n\", dataset.head())"
   ]
  },
  {
   "cell_type": "code",
   "execution_count": 5,
   "metadata": {},
   "outputs": [],
   "source": [
    "def train_logistic_regression(train_x, train_y):    \n",
    "    return LogisticRegression().fit(train_x, train_y)"
   ]
  },
  {
   "cell_type": "code",
   "execution_count": 6,
   "metadata": {},
   "outputs": [],
   "source": [
    "def model_accuracy(trained_model, features, targets):\n",
    "    return trained_model.score(features, targets)"
   ]
  },
  {
   "cell_type": "code",
   "execution_count": 7,
   "metadata": {
    "scrolled": true
   },
   "outputs": [
    {
     "name": "stderr",
     "output_type": "stream",
     "text": [
      "C:\\ProgramData\\Anaconda3\\lib\\site-packages\\sklearn\\model_selection\\_split.py:2179: FutureWarning: From version 0.21, test_size will always complement train_size unless both are specified.\n",
      "  FutureWarning)\n",
      "C:\\ProgramData\\Anaconda3\\lib\\site-packages\\sklearn\\linear_model\\logistic.py:433: FutureWarning: Default solver will be changed to 'lbfgs' in 0.22. Specify a solver to silence this warning.\n",
      "  FutureWarning)\n",
      "C:\\ProgramData\\Anaconda3\\lib\\site-packages\\sklearn\\linear_model\\logistic.py:460: FutureWarning: Default multi_class will be changed to 'auto' in 0.22. Specify the multi_class option to silence this warning.\n",
      "  \"this warning.\", FutureWarning)\n"
     ]
    },
    {
     "name": "stdout",
     "output_type": "stream",
     "text": [
      "train_x size = (54012, 2)\n",
      "train_y size = (54012,)\n",
      "test_x size = (23149, 2)\n",
      "test_y size = (23149,)\n"
     ]
    }
   ],
   "source": [
    "training_features = ['latitude', 'longitude']\n",
    "target = 'felt'\n",
    "\n",
    "# Split into test and train, ignore FutureWarnings\n",
    "train_x, test_x, train_y, test_y = train_test_split(dataset[training_features], dataset[target], train_size=0.7)\n",
    "trained_logistic_regression_model = train_logistic_regression(train_x, train_y)\n",
    "    \n",
    "print(\"train_x size =\", train_x.shape)\n",
    "print(\"train_y size =\", train_y.shape)\n",
    "print(\"test_x size =\", test_x.shape)\n",
    "print(\"test_y size =\", test_y.shape)"
   ]
  },
  {
   "cell_type": "code",
   "execution_count": 8,
   "metadata": {},
   "outputs": [],
   "source": [
    "def findMatch(inpt):\n",
    "    \"\"\"\n",
    "    Find the latitude and longitude for the corresponding zip code.\n",
    "    \"\"\"\n",
    "    \n",
    "    found, lat, lon = 0, 0, 0\n",
    "    if len(str(inpt)) > 5 or len(str(inpt)) < 3:\n",
    "        print(\"Invalid input\")\n",
    "    else:\n",
    "        for col in lines:\n",
    "            if inpt == col[0]:\n",
    "                found, lat, lon = 1, col[1], col[2]\n",
    "                break\n",
    "    return found, lat, lon"
   ]
  },
  {
   "cell_type": "code",
   "execution_count": 9,
   "metadata": {},
   "outputs": [
    {
     "name": "stdout",
     "output_type": "stream",
     "text": [
      "\n",
      "Train Accuracy = 0.964119084647856\n",
      "Test Accuracy = 0.9632381528359756\n"
     ]
    }
   ],
   "source": [
    "print(\"\\nTrain Accuracy =\", model_accuracy(trained_logistic_regression_model, train_x, train_y))\n",
    "print(\"Test Accuracy =\", model_accuracy(trained_logistic_regression_model, test_x, test_y))"
   ]
  },
  {
   "cell_type": "markdown",
   "metadata": {},
   "source": [
    "## User input and result\n",
    "Promt for zip code to get result."
   ]
  },
  {
   "cell_type": "code",
   "execution_count": 10,
   "metadata": {},
   "outputs": [
    {
     "name": "stdout",
     "output_type": "stream",
     "text": [
      "Enter 5-digit zip code: 92119\n",
      "Latitude and longitude at zip code: 32.817888 -117.031956\n",
      "\n",
      "Generating result for the given user input...\n",
      "A hypothetical earthquake, right here, right now, would be between 2.5 and 4 on the Richter scale; it would feel INDISTINGUISHABLE and it is VERY UNLIKELY to cause damage.\n"
     ]
    }
   ],
   "source": [
    "with open('USzipcodes.csv', 'r') as csvfile:\n",
    "    lines = csv.reader(csvfile)\n",
    "    \n",
    "    zipcode = input(\"Enter 5-digit zip code: \")\n",
    "    found, lat, lon = findMatch(zipcode)\n",
    "    if found:\n",
    "        print(\"Latitude and longitude at zip code:\", lat, lon)\n",
    "    else:\n",
    "        print(\"Zipcode not found\")\n",
    "        \n",
    "    print(\"\\nGenerating result for the given user input...\")\n",
    "    feltval = int(trained_logistic_regression_model.predict([[float(lat), float(lon)]]))\n",
    "    print(\"A hypothetical earthquake, right here, right now, would be between\", 0 if feltval < 1 else ref[feltval - 1][0],\n",
    "          \"and\", ref[feltval][0], \"on the Richter scale; it would feel\", ref[feltval][1], \"and it is\", ref[feltval][2],\n",
    "          \"to cause damage.\")"
   ]
  }
 ],
 "metadata": {
  "kernelspec": {
   "display_name": "Python 3",
   "language": "python",
   "name": "python3"
  },
  "language_info": {
   "codemirror_mode": {
    "name": "ipython",
    "version": 3
   },
   "file_extension": ".py",
   "mimetype": "text/x-python",
   "name": "python",
   "nbconvert_exporter": "python",
   "pygments_lexer": "ipython3",
   "version": "3.6.5"
  }
 },
 "nbformat": 4,
 "nbformat_minor": 2
}
