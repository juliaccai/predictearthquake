{
 "cells": [
  {
   "cell_type": "markdown",
   "metadata": {},
   "source": [
    "# Logistic Regression for Predicting Feeling Earthquakes\n",
    "\n",
    "### Earthquakes are being predicted for how likely they will be felt, and around what magnitude\n",
    "\n",
    "- US earthquake data is from http://earthquake.usgs.gov and include 77,161 data points for earthquakes from 1990 to 2018.\n",
    "- US zipcodes data is from https://www.census.gov/geo/maps-data/data/gazetteer2018.html"
   ]
  },
  {
   "cell_type": "code",
   "execution_count": 1,
   "metadata": {},
   "outputs": [],
   "source": [
    "# Required Python Packages\n",
    "import pandas as pd\n",
    "import csv\n",
    "import numpy as np\n",
    "\n",
    "from sklearn.model_selection import train_test_split\n",
    "from sklearn.linear_model import LogisticRegression\n",
    "from sklearn import metrics"
   ]
  },
  {
   "cell_type": "markdown",
   "metadata": {},
   "source": [
    "# Creates a new earthquake file based on the magnitude, it assigns \"felt\" values, of 0-4.\n",
    "- NOT-LIKELY feel an earthquake (mag: 0 - 2.4)\n",
    "- MAYBE feel an earthquake (mag: 2.5 - 3.9) \n",
    "- LIKELY feel an earthquake (mag: 4 - 4.9) \n",
    "- LIKELY feel an earthquake (mag: 5 - 5.9) and MIGHT see some MINOR-SERIOUS damage from it\n",
    "- LIKELY feel an earthquake (mag: 6 - 8) and LIKELY see some SERIOUS"
   ]
  },
  {
   "cell_type": "code",
   "execution_count": 2,
   "metadata": {},
   "outputs": [],
   "source": [
    "with open('USearthquakes1990to2018.csv','r') as csvinput:\n",
    "    with open('USearthquakes_felt.csv', 'w') as csvoutput:\n",
    "        writer = csv.writer(csvoutput, lineterminator='\\n')\n",
    "        reader = csv.reader(csvinput)\n",
    "        all = []\n",
    "        row = next(reader)\n",
    "        row.append('felt')\n",
    "        all.append(row)\n",
    "\n",
    "        for row in reader:\n",
    "            if float(row[4]) <= 2.5:\n",
    "                row.append(0)\n",
    "                all.append(row)\n",
    "            elif float(row[4]) <= 3.9:\n",
    "                row.append(1)\n",
    "                all.append(row)\n",
    "            elif float(row[4]) <= 4.9:\n",
    "                row.append(2)\n",
    "                all.append(row)\n",
    "            elif float(row[4]) <= 5.9:\n",
    "                row.append(3)\n",
    "                all.append(row)\n",
    "            elif float(row[4]) > 5.9:\n",
    "                row.append(4)\n",
    "                all.append(row)          \n",
    "\n",
    "        writer.writerows(all)"
   ]
  },
  {
   "cell_type": "markdown",
   "metadata": {},
   "source": [
    "# Prints information about the US earthquakes dataset\n",
    "- Number of rows (each is a earthquake event recorded)\n",
    "- The title of each column, or each feature\n",
    "- The first few rows of the earthquake data"
   ]
  },
  {
   "cell_type": "code",
   "execution_count": 3,
   "metadata": {
    "scrolled": true
   },
   "outputs": [
    {
     "name": "stdout",
     "output_type": "stream",
     "text": [
      "Number of Observations = 77161 \n",
      "\n",
      "Data set headers = ['datetime', 'latitude', 'longitude', 'depth', 'magnitude', 'felt'] \n",
      "\n",
      "First few rows =\n",
      "                    datetime   latitude   longitude  depth  magnitude  felt\n",
      "0  2018-12-18T04:21:40.550Z  40.934334 -124.629837  14.82       3.03     1\n",
      "1  2018-12-17T18:02:39.570Z  36.094000 -117.882000   4.09       2.62     1\n",
      "2  2018-12-17T11:26:24.210Z  38.057667 -118.875168  10.70       2.69     1\n",
      "3  2018-12-17T07:42:48.530Z  36.462900  -98.773700   7.92       3.00     1\n",
      "4  2018-12-17T02:52:01.740Z  35.956833 -116.734500  -0.34       3.62     1\n"
     ]
    }
   ],
   "source": [
    "# File to be used for the logistic regression model\n",
    "EARTHQUAKES_FILE = \"USearthquakes_felt.csv\"\n",
    "\n",
    "# Load the data set for training and testing the logistic regression classifier\n",
    "dataset = pd.read_csv(EARTHQUAKES_FILE)\n",
    "print (\"Number of Observations =\", len(dataset),\"\\n\")\n",
    "\n",
    "# Load the data set for training and testing the logistic regression classifier\n",
    "dataset = pd.read_csv(EARTHQUAKES_FILE)\n",
    " \n",
    "headers = list(dataset.columns.values)\n",
    "print(\"Data set headers = {headers}\".format(headers=headers),\"\\n\")\n",
    "\n",
    "# Gets the first few rows of the US earthquake dataset\n",
    "print (\"First few rows =\\n\",dataset.head())"
   ]
  },
  {
   "cell_type": "markdown",
   "metadata": {},
   "source": [
    "# Training the Logistic Regression Model\n",
    "- Testing for accuracy\n",
    "- Splitting the dataset\n",
    "- Prints the sizes of train_X train_Y test_X test_Y"
   ]
  },
  {
   "cell_type": "code",
   "execution_count": 4,
   "metadata": {},
   "outputs": [],
   "source": [
    "def train_logistic_regression(train_x, train_y):\n",
    "    \"\"\"\n",
    "    Trains the logistic regression model with the train dataset features(train_x) and target(train_y)\n",
    "    \"\"\"\n",
    "    logistic_regression_model = LogisticRegression()\n",
    "    logistic_regression_model.fit(train_x, train_y)\n",
    "    return logistic_regression_model"
   ]
  },
  {
   "cell_type": "code",
   "execution_count": 5,
   "metadata": {},
   "outputs": [],
   "source": [
    "def model_accuracy(trained_model, features, targets):\n",
    "    \"\"\"\n",
    "    Obtains the accuracy of the model\n",
    "    \"\"\"\n",
    "    accuracy_score = trained_model.score(features, targets)\n",
    "    return accuracy_score"
   ]
  },
  {
   "cell_type": "code",
   "execution_count": 6,
   "metadata": {
    "scrolled": true
   },
   "outputs": [
    {
     "name": "stderr",
     "output_type": "stream",
     "text": [
      "C:\\ProgramData\\Anaconda3\\lib\\site-packages\\sklearn\\model_selection\\_split.py:2179: FutureWarning: From version 0.21, test_size will always complement train_size unless both are specified.\n",
      "  FutureWarning)\n",
      "C:\\ProgramData\\Anaconda3\\lib\\site-packages\\sklearn\\linear_model\\logistic.py:433: FutureWarning: Default solver will be changed to 'lbfgs' in 0.22. Specify a solver to silence this warning.\n",
      "  FutureWarning)\n",
      "C:\\ProgramData\\Anaconda3\\lib\\site-packages\\sklearn\\linear_model\\logistic.py:460: FutureWarning: Default multi_class will be changed to 'auto' in 0.22. Specify the multi_class option to silence this warning.\n",
      "  \"this warning.\", FutureWarning)\n"
     ]
    },
    {
     "name": "stdout",
     "output_type": "stream",
     "text": [
      "train_x size =  (54012, 2)\n",
      "train_y size =  (54012,)\n",
      "test_x size =  (23149, 2)\n",
      "test_y size =  (23149,)\n"
     ]
    }
   ],
   "source": [
    "# Load the data set for training and testing the logistic regression classifier\n",
    "dataset = pd.read_csv(EARTHQUAKES_FILE)\n",
    " \n",
    "training_features = ['latitude', 'longitude']\n",
    "#need to add calculations on if the earthquakes are felt or not, depending on the zipcode (put it before this line)\n",
    "target = 'felt'\n",
    "    \n",
    "# Train and Test data split\n",
    "train_x, test_x, train_y, test_y = train_test_split(dataset[training_features], dataset[target], train_size=0.7)\n",
    "trained_logistic_regression_model = train_logistic_regression(train_x, train_y)\n",
    "    \n",
    "print (\"train_x size = \", train_x.shape)\n",
    "print (\"train_y size = \", train_y.shape)\n",
    " \n",
    "print (\"test_x size = \", test_x.shape)\n",
    "print (\"test_y size = \", test_y.shape)"
   ]
  },
  {
   "cell_type": "markdown",
   "metadata": {},
   "source": [
    "# Finds the zipcode in the zipcode file and gets the lat and lon associated with the zipcode"
   ]
  },
  {
   "cell_type": "code",
   "execution_count": 7,
   "metadata": {},
   "outputs": [],
   "source": [
    "# zipcode file that has lat and lon values associated with the zipcode\n",
    "with open('USzipcodes.csv', 'r') as csvfile:\n",
    "    lines = csv.reader(csvfile)\n",
    "    \n",
    "#checks if zipcode inputted is the approriate length\n",
    "def lengthCheck(x):\n",
    "    if len(str(x)) > 5 or len(str(x)) < 3: a = 0\n",
    "    else: a = 1\n",
    "    return a\n",
    "\n",
    "#finds lat and lon of the zipcode in the file\n",
    "def findMatch(inpt):\n",
    "    if lengthCheck(inpt) == 0:\n",
    "        print(\"Invalid Input\")\n",
    "        found, lat, lon = 0\n",
    "        return\n",
    "    else:\n",
    "        found, lat, lon = zipChecker(inpt)\n",
    "        return found, lat, lon\n",
    "    \n",
    "# Returns latitude and longitude of the zip code\n",
    "def zipChecker(inpt):\n",
    "    with open('USzipcodes.csv', 'r') as csvfile:\n",
    "        reader = csv.reader(csvfile)\n",
    "        for col in reader:\n",
    "            if inpt == col[0]:\n",
    "                found = 1\n",
    "                lat = col[1]\n",
    "                lon = col[2]\n",
    "                break;\n",
    "            else:\n",
    "                found = 0 \n",
    "    if found == 1:\n",
    "        return found, lat, lon\n",
    "    else:\n",
    "        return 0,0,0"
   ]
  },
  {
   "cell_type": "markdown",
   "metadata": {},
   "source": [
    "# Prompts user to input a zipcode \n",
    "### To check if they will feel an earthquake at the inputted zipcode\n",
    "Their zipcode is translated into latitude and longitude values"
   ]
  },
  {
   "cell_type": "code",
   "execution_count": 8,
   "metadata": {},
   "outputs": [
    {
     "name": "stdout",
     "output_type": "stream",
     "text": [
      "Enter 5-digit zip code: 92119\n",
      "Latitude and Longitude at zipcode ( 92119 ): 32.817888 -117.031956\n"
     ]
    }
   ],
   "source": [
    "zipcode = input(\"Enter 5-digit zip code: \")\n",
    "found, lat, lon = findMatch(zipcode)\n",
    "if found == 0:\n",
    "    print(\"Zipcode not found:\", zipcode)\n",
    "else:\n",
    "    print(\"Latitude and Longitude at zipcode (\", zipcode,\"):\", lat, lon)"
   ]
  },
  {
   "cell_type": "markdown",
   "metadata": {},
   "source": [
    "# Logistic Regression Results:\n",
    "\n",
    "Trains, Tests, Outputs the likelihood of feeling an earthquake at the given zipcode."
   ]
  },
  {
   "cell_type": "code",
   "execution_count": 9,
   "metadata": {
    "scrolled": true
   },
   "outputs": [
    {
     "name": "stderr",
     "output_type": "stream",
     "text": [
      "C:\\ProgramData\\Anaconda3\\lib\\site-packages\\sklearn\\model_selection\\_split.py:2179: FutureWarning: From version 0.21, test_size will always complement train_size unless both are specified.\n",
      "  FutureWarning)\n",
      "C:\\ProgramData\\Anaconda3\\lib\\site-packages\\sklearn\\linear_model\\logistic.py:433: FutureWarning: Default solver will be changed to 'lbfgs' in 0.22. Specify a solver to silence this warning.\n",
      "  FutureWarning)\n",
      "C:\\ProgramData\\Anaconda3\\lib\\site-packages\\sklearn\\linear_model\\logistic.py:460: FutureWarning: Default multi_class will be changed to 'auto' in 0.22. Specify the multi_class option to silence this warning.\n",
      "  \"this warning.\", FutureWarning)\n"
     ]
    },
    {
     "name": "stdout",
     "output_type": "stream",
     "text": [
      "Train Accuracy =  0.8859882988965415\n",
      "Test Accuracy =  0.8859993952222558 \n",
      "\n",
      "Predicting if will feel an earthquake for the lat and lon values: [[32.817888, -117.031956]] \n",
      "\n",
      "You will MAYBE feel an earthquake (mag: 2.5 - 3.9) at the zipcode: 92119\n"
     ]
    }
   ],
   "source": [
    "#training on the 'latitude' and 'longitude' and NOT including the 'magnitude', as 'felt' is based off the magnitude\n",
    "training_features = ['latitude','longitude']\n",
    "target = 'felt'\n",
    " \n",
    "# Train , Test data split\n",
    "train_x, test_x, train_y, test_y = train_test_split(dataset[training_features], dataset[target], train_size=0.7)\n",
    " \n",
    "# Training Logistic regression model\n",
    "trained_logistic_regression_model = train_logistic_regression(train_x, train_y)\n",
    " \n",
    "train_accuracy = model_accuracy(trained_logistic_regression_model, train_x, train_y)\n",
    " \n",
    "print(\"Train Accuracy = \", train_accuracy)\n",
    "    \n",
    "# Testing the logistic regression model\n",
    "test_accuracy = model_accuracy(trained_logistic_regression_model, test_x, test_y)\n",
    "    \n",
    "print(\"Test Accuracy = \", test_accuracy,\"\\n\")\n",
    "    \n",
    "X = [[float(lat),float(lon)]]\n",
    "print(\"Predicting if will feel an earthquake for the lat and lon values:\",X,\"\\n\")\n",
    "feltval = trained_logistic_regression_model.predict(X)\n",
    "    \n",
    "if feltval == 0:\n",
    "    print(\"You will NOT-LIKELY feel an earthquake (mag: 0 - 2.4) at the zipcode:\",zipcode)\n",
    "elif feltval == 1: \n",
    "    print(\"You will MAYBE feel an earthquake (mag: 2.5 - 3.9) at the zipcode:\",zipcode)\n",
    "elif feltval == 2: \n",
    "    print(\"You will LIKELY feel an earthquake (mag: 4 - 4.9) at the zipcode:\",zipcode) \n",
    "elif feltval == 3: \n",
    "    print(\"You will LIKELY feel an earthquake (mag: 5 - 5.9) and MIGHT see some MINOR-SERIOUS damage from it, at the zipcode:\",zipcode)\n",
    "elif feltval == 4: \n",
    "    print(\"You will LIKELY feel an earthquake (mag: 6 - 8) and LIKELY see some SERIOUS damage from it, at the zipcode:\",zipcode)    "
   ]
  }
 ],
 "metadata": {
  "kernelspec": {
   "display_name": "Python 3",
   "language": "python",
   "name": "python3"
  },
  "language_info": {
   "codemirror_mode": {
    "name": "ipython",
    "version": 3
   },
   "file_extension": ".py",
   "mimetype": "text/x-python",
   "name": "python",
   "nbconvert_exporter": "python",
   "pygments_lexer": "ipython3",
   "version": "3.6.5"
  }
 },
 "nbformat": 4,
 "nbformat_minor": 2
}
