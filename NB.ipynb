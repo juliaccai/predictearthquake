{
 "cells": [
  {
   "cell_type": "code",
   "execution_count": 1,
   "metadata": {},
   "outputs": [],
   "source": [
    "# Classifies if an earthquake will be felt based on the zipcode inputed by the user\n",
    "# NOT FELT: 0-2, MIGHT BE FELT: 2.1-3.9, LIKELY FELT: 4-highest_possible_number\n",
    "#\n",
    "# The zipcode is used to find the lat and long defined by the U.S. census zipcode file\n",
    "# TODO Finds the closest earthquake that has occured in the past, by whichever is closest by location (lat & long)\n",
    "# TODO Checks if the past earthquake is within the specified distance to be felt. Keeps checking\n",
    "# if any lat and long of earthquakes are within the specified distance to be felt\n",
    "# TODO Returns if NOT FELT: 0-2, MIGHT BE FELT: 2.1-3.9, LIKELY FELT: 4-highest_possible_number\n",
    "\n",
    "import pandas\n",
    "import numpy as np\n",
    "import csv\n",
    "import random\n",
    "import matplotlib.pyplot as plt\n",
    "from math import cos, asin, sqrt"
   ]
  },
  {
   "cell_type": "code",
   "execution_count": 2,
   "metadata": {},
   "outputs": [],
   "source": [
    "with open('USearthquakes.csv', 'r') as csvfile:\n",
    "    lines = csv.reader(csvfile)\n",
    "    #for row in lines:\n",
    "        #print(', '.join(row))\n",
    "\n",
    "def loadCsv(filename):\n",
    "    lines = csv.reader(open(filename, \"rb\"))\n",
    "    dataset = list(lines)\n",
    "    for i in range(len(dataset)):\n",
    "        dataset[i] = [float(x) for x in dataset[i]]\n",
    "    return dataset\n",
    "\n",
    "def loadDataset(filename, split, trainingSet):\n",
    "    with open(filename, 'r') as csvfile:\n",
    "        colnames = ['1','2','3','4']\n",
    "        data = pandas.read_csv(filename,names=colnames)\n",
    "        dataset = list(zip(data['2'], data['3'], data['4']))\n",
    "        for x in range(len(dataset)):\n",
    "            dataset[x] = list(dataset[x])        \n",
    "            for x in range(len(dataset)):\n",
    "                for y in range(3):\n",
    "                    dataset[x][y] = float(dataset[x][y])\n",
    "            if random.random() < split:\n",
    "                trainingSet.append(dataset[x])\n",
    "            else:\n",
    "                testSet.append(dataset[x])"
   ]
  },
  {
   "cell_type": "code",
   "execution_count": 3,
   "metadata": {
    "scrolled": true
   },
   "outputs": [],
   "source": [
    "with open('USzipcodes.csv', 'r') as csvfile:\n",
    "    lines = csv.reader(csvfile)\n",
    "    #for row in lines:\n",
    "        #print(', '.join(row))"
   ]
  },
  {
   "cell_type": "code",
   "execution_count": 4,
   "metadata": {},
   "outputs": [],
   "source": [
    "def lengthCheck(x):\n",
    "    if len(str(x)) > 5 or len(str(x)) < 3: a = 0\n",
    "    else: a = 1\n",
    "    return a"
   ]
  },
  {
   "cell_type": "code",
   "execution_count": 5,
   "metadata": {
    "scrolled": true
   },
   "outputs": [],
   "source": [
    "#print (\"Calculates if an earthquake will be NOT FELT, UNLIKELY FELT, LIKELY FELT, HIGHLY-LIKELY FELT in the zipcode location of your choosing\")\n",
    "#zipcode = input(\"Input the zipcode:\")\n",
    "#print (\"Your zipcode is: \", zipcode)\n",
    "#type(zipcode)"
   ]
  },
  {
   "cell_type": "code",
   "execution_count": 6,
   "metadata": {},
   "outputs": [],
   "source": [
    "# Returns latitude and longitude of the zip code\n",
    "def zipChecker(inpt):\n",
    "    with open('USzipcodes.csv', 'r') as csvfile:\n",
    "        reader = csv.reader(csvfile)\n",
    "        for col in reader:\n",
    "            if inpt == col[0]:\n",
    "                found = 1\n",
    "                lat = col[1]\n",
    "                lon = col[2]\n",
    "                break;\n",
    "            else:\n",
    "                found = 0 \n",
    "    return found, lat, lon"
   ]
  },
  {
   "cell_type": "code",
   "execution_count": 7,
   "metadata": {},
   "outputs": [],
   "source": [
    "def findMatch(inpt):\n",
    "    if lengthCheck(inpt) == 0:\n",
    "        print(\"Invalid Input\")\n",
    "        findMatch()\n",
    "    else:\n",
    "        f, latA, lonA = zipChecker(inpt)\n",
    "    return latA, lonA"
   ]
  },
  {
   "cell_type": "code",
   "execution_count": 8,
   "metadata": {},
   "outputs": [],
   "source": [
    "def findClosest(latX, lonY):\n",
    "    with open('USearthquakes.csv', 'r') as csvfile:\n",
    "        lines = csv.reader(csvfile)\n",
    "        for col in lines:\n",
    "            if latX == col[1] and lonY == col[2]:\n",
    "                magn = col[3]\n",
    "                break;\n",
    "            else:\n",
    "                magn = 0\n",
    "    return magn"
   ]
  },
  {
   "cell_type": "code",
   "execution_count": 9,
   "metadata": {},
   "outputs": [],
   "source": [
    "def findClosestTest(latX, lonY):\n",
    "    with open('USearthquakes.csv', 'r') as csvfile:\n",
    "        lines = csv.reader(csvfile)\n",
    "        for col in lines:\n",
    "            dist = np.linalg.norm()"
   ]
  },
  {
   "cell_type": "code",
   "execution_count": 10,
   "metadata": {},
   "outputs": [
    {
     "name": "stdout",
     "output_type": "stream",
     "text": [
      "{'lat': 39.7612992, 'lon': -86.1519681}\n"
     ]
    }
   ],
   "source": [
    "# calculate closest longitude \n",
    "# https://stackoverflow.com/questions/41336756/find-the-closest-latitude-and-longitude\n",
    "\n",
    "def distance(lat1, lon1, lat2, lon2):\n",
    "    p = 0.017453292519943295\n",
    "    a = 0.5 - cos((lat2 - lat1) * p) / 2 + cos(lat1 * p) * cos(lat2 * p) * (1 - cos((lon2 - lon1) * p)) / 2\n",
    "    return 12742 * asin(sqrt(a))\n",
    "\n",
    "def closest(data, v):\n",
    "    return min(data, key=lambda p: distance(v['lat'], v['lon'], p['lat'], p['lon']))\n",
    "\n",
    "tempDataList = [{'lat': 39.7612992, 'lon': -86.1519681}, \n",
    "                {'lat': 39.762241,  'lon': -86.158436 }, \n",
    "                {'lat': 39.7622292, 'lon': -86.1578917}]\n",
    "\n",
    "v = {'lat': 39.7622290, 'lon': -86.1519750}\n",
    "print(closest(tempDataList, v))"
   ]
  },
  {
   "cell_type": "code",
   "execution_count": 11,
   "metadata": {},
   "outputs": [
    {
     "name": "stdout",
     "output_type": "stream",
     "text": [
      "Enter 5-digit zip code: 92020\n",
      "Latitude and Longitude @ Zip:  32.795508 -116.969746\n"
     ]
    },
    {
     "ename": "TypeError",
     "evalue": "norm() missing 1 required positional argument: 'x'",
     "output_type": "error",
     "traceback": [
      "\u001b[1;31m---------------------------------------------------------------------------\u001b[0m",
      "\u001b[1;31mTypeError\u001b[0m                                 Traceback (most recent call last)",
      "\u001b[1;32m<ipython-input-11-a91f8fdb9bc3>\u001b[0m in \u001b[0;36m<module>\u001b[1;34m()\u001b[0m\n\u001b[0;32m      3\u001b[0m \u001b[0mprint\u001b[0m\u001b[1;33m(\u001b[0m\u001b[1;34m\"Latitude and Longitude @ Zip: \"\u001b[0m\u001b[1;33m,\u001b[0m \u001b[0mlatB\u001b[0m\u001b[1;33m,\u001b[0m \u001b[0mlonB\u001b[0m\u001b[1;33m)\u001b[0m\u001b[1;33m\u001b[0m\u001b[0m\n\u001b[0;32m      4\u001b[0m \u001b[1;31m#findClosest(latB, lonB)\u001b[0m\u001b[1;33m\u001b[0m\u001b[1;33m\u001b[0m\u001b[0m\n\u001b[1;32m----> 5\u001b[1;33m \u001b[0mmagn\u001b[0m \u001b[1;33m=\u001b[0m \u001b[0mfindClosestTest\u001b[0m\u001b[1;33m(\u001b[0m\u001b[0mlatB\u001b[0m\u001b[1;33m,\u001b[0m \u001b[0mlonB\u001b[0m\u001b[1;33m)\u001b[0m\u001b[1;33m\u001b[0m\u001b[0m\n\u001b[0m\u001b[0;32m      6\u001b[0m \u001b[0mprint\u001b[0m\u001b[1;33m(\u001b[0m\u001b[1;34m\"Magnitude @ Closets Lat & Lon: \"\u001b[0m\u001b[1;33m,\u001b[0m \u001b[0mmagn\u001b[0m\u001b[1;33m)\u001b[0m\u001b[1;33m\u001b[0m\u001b[0m\n",
      "\u001b[1;32m<ipython-input-9-adfaf6790f63>\u001b[0m in \u001b[0;36mfindClosestTest\u001b[1;34m(latX, lonY)\u001b[0m\n\u001b[0;32m      3\u001b[0m         \u001b[0mlines\u001b[0m \u001b[1;33m=\u001b[0m \u001b[0mcsv\u001b[0m\u001b[1;33m.\u001b[0m\u001b[0mreader\u001b[0m\u001b[1;33m(\u001b[0m\u001b[0mcsvfile\u001b[0m\u001b[1;33m)\u001b[0m\u001b[1;33m\u001b[0m\u001b[0m\n\u001b[0;32m      4\u001b[0m         \u001b[1;32mfor\u001b[0m \u001b[0mcol\u001b[0m \u001b[1;32min\u001b[0m \u001b[0mlines\u001b[0m\u001b[1;33m:\u001b[0m\u001b[1;33m\u001b[0m\u001b[0m\n\u001b[1;32m----> 5\u001b[1;33m             \u001b[0mdist\u001b[0m \u001b[1;33m=\u001b[0m \u001b[0mnp\u001b[0m\u001b[1;33m.\u001b[0m\u001b[0mlinalg\u001b[0m\u001b[1;33m.\u001b[0m\u001b[0mnorm\u001b[0m\u001b[1;33m(\u001b[0m\u001b[1;33m)\u001b[0m\u001b[1;33m\u001b[0m\u001b[0m\n\u001b[0m",
      "\u001b[1;31mTypeError\u001b[0m: norm() missing 1 required positional argument: 'x'"
     ]
    }
   ],
   "source": [
    "inpt = input(\"Enter 5-digit zip code: \")\n",
    "latB, lonB = findMatch(inpt)\n",
    "print(\"Latitude and Longitude @ Zip: \", latB, lonB)\n",
    "#findClosest(latB, lonB)\n",
    "magn = findClosestTest(latB, lonB)\n",
    "print(\"Magnitude @ Closets Lat & Lon: \", magn)"
   ]
  },
  {
   "cell_type": "code",
   "execution_count": null,
   "metadata": {
    "scrolled": false
   },
   "outputs": [],
   "source": [
    "# US zipcodes from https://www.census.gov/geo/maps-data/data/gazetteer2018.html\n",
    "# https://www.pythonforbeginners.com/files/reading-and-writing-files-in-python\n",
    "#zipcodefile = open(\"USzipcodes.text\",\"r\")\n",
    "#print (zipcodefile.read())"
   ]
  }
 ],
 "metadata": {
  "kernelspec": {
   "display_name": "Python 3",
   "language": "python",
   "name": "python3"
  },
  "language_info": {
   "codemirror_mode": {
    "name": "ipython",
    "version": 3
   },
   "file_extension": ".py",
   "mimetype": "text/x-python",
   "name": "python",
   "nbconvert_exporter": "python",
   "pygments_lexer": "ipython3",
   "version": "3.6.5"
  }
 },
 "nbformat": 4,
 "nbformat_minor": 2
}
