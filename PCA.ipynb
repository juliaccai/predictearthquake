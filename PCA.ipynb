{
 "cells": [
  {
   "cell_type": "markdown",
   "metadata": {},
   "source": [
    "# Principal Component Analysis"
   ]
  },
  {
   "cell_type": "code",
   "execution_count": 1,
   "metadata": {},
   "outputs": [],
   "source": [
    "import numpy as np\n",
    "import pandas as pd\n",
    "from sklearn.decomposition import PCA\n",
    "from sklearn.model_selection import train_test_split\n",
    "from sklearn.preprocessing import StandardScaler"
   ]
  },
  {
   "cell_type": "code",
   "execution_count": 2,
   "metadata": {},
   "outputs": [
    {
     "name": "stdout",
     "output_type": "stream",
     "text": [
      "<class 'pandas.core.frame.DataFrame'>\n",
      "Int64Index: 8582 entries, 1 to 8582\n",
      "Data columns (total 10 columns):\n",
      "latitude           8582 non-null float64\n",
      "longitude          8582 non-null float64\n",
      "depth              8582 non-null float64\n",
      "Gap                8582 non-null float64\n",
      "dmin               8582 non-null float64\n",
      "rms                8582 non-null float64\n",
      "horizontalError    8582 non-null float64\n",
      "depthError         8582 non-null float64\n",
      "magError           8582 non-null float64\n",
      "magNST             8582 non-null float64\n",
      "dtypes: float64(10)\n",
      "memory usage: 737.5 KB\n"
     ]
    },
    {
     "data": {
      "text/plain": [
       "mag    float64\n",
       "dtype: object"
      ]
     },
     "execution_count": 2,
     "metadata": {},
     "output_type": "execute_result"
    }
   ],
   "source": [
    "cols = [('latitude'), ('longitude'), ('depth'), ('Gap'), ('dmin'), ('rms'), \n",
    "    ('horizontalError'), ('depthError'), ('magError'), ('magNST')]\n",
    "X = pd.read_csv('Xpca.csv', names=cols)  \n",
    "Y = pd.read_csv('Y_query.csv')\n",
    "#Y.astype(float)\n",
    "#X.dtypes\n",
    "X[cols] = X[cols].apply(pd.to_numeric, axis=1, errors='coerce')\n",
    "X = X.drop(X.index[0])\n",
    "#X.head()\n",
    "#X.dtypes\n",
    "#X.fillna(0)\n",
    "\n",
    "all_inf_or_nan = X.isin([np.inf, -np.inf, np.nan]).all(axis='columns')\n",
    "#X[~all_inf_or_nan]\n",
    "\n",
    "X = X.fillna(value=0) # null => 0\n",
    "assert pd.notnull(X).all().all() # Assert that there are no missing values\n",
    "X.info(null_counts=True)\n",
    "Y.dtypes"
   ]
  },
  {
   "cell_type": "code",
   "execution_count": 3,
   "metadata": {},
   "outputs": [],
   "source": [
    "# Split training and testing data\n",
    "X_train, X_test, Y_train, Y_test = train_test_split(X, Y, test_size=0.2, random_state=0)  \n",
    "#print(X)\n",
    "#X.dtypes"
   ]
  },
  {
   "cell_type": "markdown",
   "metadata": {},
   "source": [
    "Standardize the data to create uniformity."
   ]
  },
  {
   "cell_type": "code",
   "execution_count": 4,
   "metadata": {},
   "outputs": [],
   "source": [
    "scaler = StandardScaler()\n",
    "scaler.fit(X_train) # Fit scale to training set\n",
    "# Transform both data sets to the new scale\n",
    "X_train = scaler.transform(X_train)\n",
    "X_test = scaler.transform(X_test)"
   ]
  },
  {
   "cell_type": "markdown",
   "metadata": {},
   "source": [
    "Perform PCA using Sklearn. Print the newly transformed data's shape."
   ]
  },
  {
   "cell_type": "code",
   "execution_count": 5,
   "metadata": {},
   "outputs": [
    {
     "name": "stdout",
     "output_type": "stream",
     "text": [
      "Old shape: (8582, 10)\n",
      "New shape: (1717, 10)\n"
     ]
    }
   ],
   "source": [
    "pca = PCA()  \n",
    "X_train = pca.fit_transform(X_train)  \n",
    "X_test = pca.transform(X_test)  \n",
    "print(\"Old shape:\", X.shape)\n",
    "print(\"New shape:\", X_test.shape)\n",
    "#print(X_test)\n",
    "#print(X)"
   ]
  },
  {
   "cell_type": "code",
   "execution_count": 6,
   "metadata": {},
   "outputs": [
    {
     "name": "stdout",
     "output_type": "stream",
     "text": [
      "[0.23038235 0.17982504 0.13206089 0.10831807 0.09987504 0.08549434\n",
      " 0.05002188 0.04506632 0.03783222 0.03112384]\n"
     ]
    }
   ],
   "source": [
    "ex_variance = np.var(X_test, axis=0) # Explained variance\n",
    "ex_variance_ratio = ex_variance / np.sum(ex_variance) # Ratios for the former\n",
    "#print(ex_variance)\n",
    "print(ex_variance_ratio)"
   ]
  },
  {
   "cell_type": "code",
   "execution_count": 7,
   "metadata": {},
   "outputs": [
    {
     "name": "stdout",
     "output_type": "stream",
     "text": [
      "PCA Components\n",
      " [[-0.12683304  0.25710222  0.23004825  0.44442858  0.24055806 -0.25210326\n",
      "   0.50366723  0.41845215  0.27810982 -0.19955123]\n",
      " [-0.04748508  0.3180444   0.33899192 -0.24531625  0.17510828 -0.16686814\n",
      "   0.19695073  0.06207758 -0.55811845  0.55574278]\n",
      " [-0.46605003  0.13241605 -0.5172654   0.06143812  0.47088956 -0.08623054\n",
      "   0.16035993 -0.47900257 -0.08930326 -0.0402332 ]\n",
      " [-0.53410117 -0.54371934  0.35655066 -0.43707055  0.16876909  0.10219045\n",
      "   0.13466239  0.12027561  0.07303658 -0.15519589]\n",
      " [ 0.38969757 -0.1450206   0.02402129  0.11898722  0.54035309  0.69281142\n",
      "   0.17280818  0.03384374 -0.03729166  0.08945386]\n",
      " [ 0.45421554 -0.45084226 -0.01840439 -0.0587368   0.39448784 -0.63714903\n",
      "  -0.04445055 -0.09031406  0.08995233  0.08268809]\n",
      " [-0.25120076 -0.35418036 -0.30084315  0.31630195 -0.14393185  0.03739132\n",
      "   0.01418855  0.27694621  0.17514169  0.70086468]\n",
      " [-0.05942838  0.01714044 -0.37726782 -0.08066831  0.23219949 -0.04985425\n",
      "  -0.35673355  0.67093888 -0.38966277 -0.2483529 ]\n",
      " [-0.13407472  0.35466709  0.20913374 -0.12475296  0.36469539  0.02354682\n",
      "  -0.58613869  0.02924475  0.51958241  0.22135519]\n",
      " [ 0.1908044   0.20920203 -0.39997517 -0.63857051 -0.0775313   0.01832555\n",
      "   0.40102774  0.20029737  0.36863214  0.09432331]]\n",
      "\n",
      "Explained Variance\n",
      " [2.365884   1.78252788 1.30027044 1.09335962 0.92987678 0.81419074\n",
      " 0.53655785 0.44998654 0.40277244 0.3260306 ]\n",
      "\n",
      "Transform data\n",
      " [[ 106.17095993  156.32335588  -94.66943823 ... -105.53525736\n",
      "   101.69116056  -84.41551012]\n",
      " [ 110.74521239   76.25859519 -112.27172191 ...  -87.58216718\n",
      "    49.91198296 -117.77065504]\n",
      " [  62.43989263  370.47266426 -188.18372699 ... -232.41708832\n",
      "   194.06719277  -96.61098323]\n",
      " ...\n",
      " [ 117.5080688    76.21589165  -56.32644362 ...  -58.36133762\n",
      "    63.5545459   -79.61452473]\n",
      " [  98.74419372   29.95970651   -2.42472429 ...  -20.60842488\n",
      "    34.6821667   -48.74628371]\n",
      " [  89.11086278   44.56842949  -29.16405598 ...  -33.33093327\n",
      "    42.92718745  -54.05521613]]\n"
     ]
    }
   ],
   "source": [
    "print(\"PCA Components\\n\", pca.components_)\n",
    "print(\"\\nExplained Variance\\n\", pca.explained_variance_)\n",
    "print(\"\\nTransform data\\n\", pca.transform(X))"
   ]
  },
  {
   "cell_type": "code",
   "execution_count": 8,
   "metadata": {},
   "outputs": [
    {
     "data": {
      "text/plain": [
       "10"
      ]
     },
     "execution_count": 8,
     "metadata": {},
     "output_type": "execute_result"
    }
   ],
   "source": [
    "# Number of principal components \n",
    "pca.n_components_"
   ]
  },
  {
   "cell_type": "code",
   "execution_count": 9,
   "metadata": {},
   "outputs": [
    {
     "data": {
      "text/plain": [
       "(8582, 10)"
      ]
     },
     "execution_count": 9,
     "metadata": {},
     "output_type": "execute_result"
    }
   ],
   "source": [
    "# Centerized data\n",
    "X_tilde = X - np.mean(X, axis=0)\n",
    "#assert X.shape == X_tilde.shape\n",
    "\n",
    "X_tilde.shape"
   ]
  },
  {
   "cell_type": "code",
   "execution_count": 10,
   "metadata": {},
   "outputs": [
    {
     "name": "stdout",
     "output_type": "stream",
     "text": [
      "PC1 explains 55.70657818007323% of the total variance\n",
      "PC2 explains 28.84794436333058% of the total variance\n",
      "PC3 explains 10.978440765551637% of the total variance\n",
      "PC4 explains 3.5617322922138643% of the total variance\n",
      "PC5 explains 0.7706529851187598% of the total variance\n",
      "PC6 explains 0.0660278360961915% of the total variance\n",
      "PC7 explains 0.042811930244362514% of the total variance\n",
      "PC8 explains 0.025472501699184566% of the total variance\n",
      "PC9 explains 0.00032478390961535774% of the total variance\n",
      "PC10 explains 1.43617625688934e-05% of the total variance\n",
      "First 10 PCs explains 100.0% of the total variance\n",
      "\n",
      "Shape of U:\n",
      " (8582, 10)\n",
      "First 5 elements of first column of U:\n",
      " [ 0.01579272  0.01369365  0.0377011  -0.00403405  0.00303744]\n",
      "First 5 elements of last column of U:\n",
      " [ 0.00357306  0.0001198  -0.01514307  0.00513204 -0.00469218]\n"
     ]
    }
   ],
   "source": [
    "# Covariance matrix\n",
    "covmat = np.dot(X_tilde.T, X_tilde) / X.shape[1]\n",
    "\n",
    "# Eigen values, Eigen vectors (u'_i)\n",
    "w, v = np.linalg.eig(covmat)\n",
    "\n",
    "# u_i\n",
    "U = np.dot(X_tilde, v)\n",
    "           \n",
    "# Normalize u_i\n",
    "U /= (np.linalg.norm(U, axis=0))\n",
    "\n",
    "# Evaluate Eigen values\n",
    "percents = w / np.sum(w) * 100\n",
    "for pc in range(0, percents.shape[0]):\n",
    "    print('PC{} explains {}% of the total variance'.format(pc + 1, percents[pc]))\n",
    "print('First {} PCs explains {}% of the total variance\\n'.format(percents.shape[0], sum(percents)))\n",
    "\n",
    "# Evaluate U\n",
    "print('Shape of U:\\n', U.shape)\n",
    "print('First 5 elements of first column of U:\\n', U[:5, 0])\n",
    "print('First 5 elements of last column of U:\\n', U[:5, -1])"
   ]
  }
 ],
 "metadata": {
  "kernelspec": {
   "display_name": "Python 3",
   "language": "python",
   "name": "python3"
  },
  "language_info": {
   "codemirror_mode": {
    "name": "ipython",
    "version": 3
   },
   "file_extension": ".py",
   "mimetype": "text/x-python",
   "name": "python",
   "nbconvert_exporter": "python",
   "pygments_lexer": "ipython3",
   "version": "3.6.5"
  }
 },
 "nbformat": 4,
 "nbformat_minor": 2
}
