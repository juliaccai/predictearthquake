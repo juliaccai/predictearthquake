{
 "cells": [
  {
   "cell_type": "code",
   "execution_count": 45,
   "metadata": {},
   "outputs": [],
   "source": [
    "import numpy as np\n",
    "import matplotlib.pyplot as plit\n",
    "import csv\n",
    "%matplotlib inline"
   ]
  },
  {
   "cell_type": "code",
   "execution_count": 46,
   "metadata": {},
   "outputs": [
    {
     "name": "stdout",
     "output_type": "stream",
     "text": [
      "ï»¿GEOID, INPTLAT, INPTLONG\n",
      "612, 18.402253, -66.711397\n",
      "616, 18.420412, -66.671979\n",
      "617, 18.447538, -66.557681\n",
      "622, 17.991245, -67.153993\n",
      "623, 18.083361, -67.153897\n",
      "624, 18.064919, -66.716683\n",
      "627, 18.4126, -66.863926\n",
      "631, 18.190607, -66.832041\n",
      "637, 18.076713, -66.947389\n",
      "2864, 41.966913, -71.428933\n",
      "2865, 41.915455, -71.449815\n",
      "2871, 41.586609, -71.259211\n",
      "2872, 41.597055, -71.320666\n",
      "2873, 41.533129, -71.780545\n",
      "2874, 41.511222, -71.480535\n",
      "2875, 41.456486, -71.638865\n",
      "2876, 41.994278, -71.58549\n",
      "2878, 41.607962, -71.182556\n",
      "2879, 41.424019, -71.534277\n",
      "2881, 41.478083, -71.524717\n",
      "2882, 41.417567, -71.471851\n",
      "2885, 41.725138, -71.258805\n",
      "2886, 41.703849, -71.455568\n",
      "2888, 41.747671, -71.406118\n",
      "2889, 41.700591, -71.376927\n",
      "2891, 41.362146, -71.790893\n",
      "2892, 41.49892, -71.599892\n",
      "2893, 41.679006, -71.518688\n",
      "2894, 41.444477, -71.703238\n",
      "2895, 42.001706, -71.499949\n",
      "2896, 41.975186, -71.544069\n",
      "2898, 41.51764, -71.668521\n",
      "2903, 41.81823, -71.409088\n",
      "2904, 41.858334, -71.436294\n",
      "2905, 41.784725, -71.396103\n",
      "2906, 41.840169, -71.390408\n",
      "2907, 41.798593, -71.42463\n"
     ]
    }
   ],
   "source": [
    "import csv\n",
    "with open('ziptest.csv', 'r') as csvfile:\n",
    "    lines = csv.reader(csvfile)\n",
    "    for row in lines:\n",
    "        print(', '.join(row))"
   ]
  },
  {
   "cell_type": "code",
   "execution_count": 47,
   "metadata": {},
   "outputs": [],
   "source": [
    "#inpt/x = zip code to search, ex: 2864"
   ]
  },
  {
   "cell_type": "code",
   "execution_count": 48,
   "metadata": {},
   "outputs": [],
   "source": [
    "def lengthCheck(x):\n",
    "    if len(str(x)) > 5 or len(str(x)) < 3: a = 0\n",
    "    else: a = 1\n",
    "    return a"
   ]
  },
  {
   "cell_type": "code",
   "execution_count": 49,
   "metadata": {},
   "outputs": [],
   "source": [
    "# Returns latitude and longitude of the zip code\n",
    "def zipChecker(inpt):\n",
    "    with open('ziptest.csv', 'r') as csvfile:\n",
    "        reader = csv.reader(csvfile)\n",
    "        for col in reader:\n",
    "            if inpt == col[0]:\n",
    "                found = 1\n",
    "                lat = col[1]\n",
    "                lon = col[2]\n",
    "                break;\n",
    "            else:\n",
    "                found = 0 \n",
    "    return found, lat, lon"
   ]
  },
  {
   "cell_type": "code",
   "execution_count": 50,
   "metadata": {},
   "outputs": [],
   "source": [
    "def findMatch(inpt):\n",
    "    if lengthCheck(inpt) == 0:\n",
    "        print(\"Invalid Input\")\n",
    "        findMatch()\n",
    "    else:\n",
    "        f, latA, lonA = zipChecker(inpt)\n",
    "    return latA, lonA"
   ]
  },
  {
   "cell_type": "code",
   "execution_count": 51,
   "metadata": {},
   "outputs": [],
   "source": [
    "def findClosest(latX, lonY):\n",
    "    with open('test.csv', 'r') as csvfile:\n",
    "        lines = csv.reader(csvfile)\n",
    "        for col in lines:\n",
    "            if latX == col[1] and lonY == col[2]:\n",
    "                magn = col[3]\n",
    "                break;\n",
    "            else:\n",
    "                magn = 0\n",
    "    return magn"
   ]
  },
  {
   "cell_type": "code",
   "execution_count": null,
   "metadata": {},
   "outputs": [],
   "source": []
  },
  {
   "cell_type": "code",
   "execution_count": 54,
   "metadata": {},
   "outputs": [],
   "source": [
    "\n",
    "def findClosestTest(latX, lonY):\n",
    "    with open('test.csv', 'r') as csvfile:\n",
    "        lines = csv.reader(csvfile)\n",
    "        for col in lines:\n",
    "            dist = np.linalg.norm()"
   ]
  },
  {
   "cell_type": "code",
   "execution_count": 55,
   "metadata": {},
   "outputs": [
    {
     "name": "stdout",
     "output_type": "stream",
     "text": [
      "Enter 5-digit zip code: 2864\n",
      "Latitude and Longitude @ Zip:  41.966913 -71.428933\n"
     ]
    },
    {
     "ename": "NameError",
     "evalue": "name 'findClosest2' is not defined",
     "output_type": "error",
     "traceback": [
      "\u001b[1;31m---------------------------------------------------------------------------\u001b[0m",
      "\u001b[1;31mNameError\u001b[0m                                 Traceback (most recent call last)",
      "\u001b[1;32m<ipython-input-55-a0dc7d815f0f>\u001b[0m in \u001b[0;36m<module>\u001b[1;34m()\u001b[0m\n\u001b[0;32m      3\u001b[0m \u001b[0mprint\u001b[0m\u001b[1;33m(\u001b[0m\u001b[1;34m\"Latitude and Longitude @ Zip: \"\u001b[0m\u001b[1;33m,\u001b[0m \u001b[0mlatB\u001b[0m\u001b[1;33m,\u001b[0m \u001b[0mlonB\u001b[0m\u001b[1;33m)\u001b[0m\u001b[1;33m\u001b[0m\u001b[0m\n\u001b[0;32m      4\u001b[0m \u001b[1;31m#findClosest(latB, lonB)\u001b[0m\u001b[1;33m\u001b[0m\u001b[1;33m\u001b[0m\u001b[0m\n\u001b[1;32m----> 5\u001b[1;33m \u001b[0mmagn\u001b[0m \u001b[1;33m=\u001b[0m \u001b[0mfindClosest2\u001b[0m\u001b[1;33m(\u001b[0m\u001b[0mlatB\u001b[0m\u001b[1;33m,\u001b[0m \u001b[0mlonB\u001b[0m\u001b[1;33m)\u001b[0m\u001b[1;33m\u001b[0m\u001b[0m\n\u001b[0m\u001b[0;32m      6\u001b[0m \u001b[0mprint\u001b[0m\u001b[1;33m(\u001b[0m\u001b[1;34m\"Magnitude @ Closets Lat & Lon: \"\u001b[0m\u001b[1;33m,\u001b[0m \u001b[0mmagn\u001b[0m\u001b[1;33m)\u001b[0m\u001b[1;33m\u001b[0m\u001b[0m\n",
      "\u001b[1;31mNameError\u001b[0m: name 'findClosest2' is not defined"
     ]
    }
   ],
   "source": [
    "inpt = input(\"Enter 5-digit zip code: \")\n",
    "latB, lonB = findMatch(inpt)\n",
    "print(\"Latitude and Longitude @ Zip: \", latB, lonB)\n",
    "#findClosest(latB, lonB)\n",
    "magn = findClosestTest(latB, lonB)\n",
    "print(\"Magnitude @ Closets Lat & Lon: \", magn)"
   ]
  },
  {
   "cell_type": "code",
   "execution_count": 52,
   "metadata": {},
   "outputs": [
    {
     "name": "stdout",
     "output_type": "stream",
     "text": [
      "Enter 5-digit zip code: 2864\n",
      "Latitude and Longitude @ Zip:  41.966913 -71.428933\n",
      "Magnitude @ Closets Lat & Lon:  4.8\n"
     ]
    }
   ],
   "source": [
    "inpt = input(\"Enter 5-digit zip code: \")\n",
    "latB, lonB = findMatch(inpt)\n",
    "print(\"Latitude and Longitude @ Zip: \", latB, lonB)\n",
    "#findClosest(latB, lonB)\n",
    "magn = findClosest(latB, lonB)\n",
    "print(\"Magnitude @ Closets Lat & Lon: \", magn)"
   ]
  },
  {
   "cell_type": "code",
   "execution_count": null,
   "metadata": {},
   "outputs": [],
   "source": []
  },
  {
   "cell_type": "code",
   "execution_count": null,
   "metadata": {},
   "outputs": [],
   "source": []
  }
 ],
 "metadata": {
  "kernelspec": {
   "display_name": "Python 3",
   "language": "python",
   "name": "python3"
  },
  "language_info": {
   "codemirror_mode": {
    "name": "ipython",
    "version": 3
   },
   "file_extension": ".py",
   "mimetype": "text/x-python",
   "name": "python",
   "nbconvert_exporter": "python",
   "pygments_lexer": "ipython3",
   "version": "3.7.0"
  }
 },
 "nbformat": 4,
 "nbformat_minor": 2
}
